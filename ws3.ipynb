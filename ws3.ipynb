{
 "cells": [
  {
   "cell_type": "markdown",
   "metadata": {},
   "source": [
    "#### WS3"
   ]
  },
  {
   "cell_type": "code",
   "execution_count": 5,
   "metadata": {},
   "outputs": [
    {
     "name": "stdout",
     "output_type": "stream",
     "text": [
      "Hello from the web!\n",
      "\n",
      "{'Date': 'Wed, 26 Oct 2022 20:00:23 GMT', 'Server': 'Apache/2.4.41 (Ubuntu)', 'Content-Length': '21', 'Keep-Alive': 'timeout=5, max=100', 'Connection': 'Keep-Alive', 'Content-Type': 'text/html; charset=UTF-8'}\n",
      "OK\n",
      "200\n",
      "<PreparedRequest [GET]>\n"
     ]
    }
   ],
   "source": [
    "import requests\n",
    "from bs4 import BeautifulSoup\n",
    "from urllib.request import urlopen\n",
    "import pandas as pd\n",
    "\n",
    "url = 'http://www.webscrapingfordatascience.com/basichttp/'\n",
    "r = requests.get(url)\n",
    "print(r.text)\n",
    "print(r.headers)\n",
    "print(r.reason)\n",
    "print(r.status_code)\n",
    "print(r.request)"
   ]
  },
  {
   "cell_type": "markdown",
   "metadata": {},
   "source": [
    "#### Creating Bs object"
   ]
  },
  {
   "cell_type": "code",
   "execution_count": null,
   "metadata": {},
   "outputs": [],
   "source": [
    "from urllib.request import urlopen\n",
    "\n",
    "url = 'https://en.wikipedia.org/w/index.php' + \\\n",
    "'?title=List_of_Game_of_Thrones_episodes&oldid=802553687'\n",
    "r = urlopen(url)\n",
    "html_soup = BeautifulSoup(r, 'html.parser')\n",
    "print(html_soup)"
   ]
  },
  {
   "cell_type": "code",
   "execution_count": null,
   "metadata": {},
   "outputs": [],
   "source": [
    "print(html_soup.find('h1'))\n",
    "print(html_soup.find('', {'id': 'p-logo'}))\n",
    "for found in html_soup.find_all(['h1', 'h2']):\n",
    "    print(found)"
   ]
  },
  {
   "cell_type": "markdown",
   "metadata": {},
   "source": [
    "#### Find the first h1 tag"
   ]
  },
  {
   "cell_type": "markdown",
   "metadata": {},
   "source": [
    "• find(name, attrs, recursive, string, **keywords) <br>\n",
    "• find_all(name, attrs, recursive, string, limit, **keywords)."
   ]
  },
  {
   "cell_type": "code",
   "execution_count": 119,
   "metadata": {},
   "outputs": [
    {
     "name": "stdout",
     "output_type": "stream",
     "text": [
      "<h1 class=\"firstHeading mw-first-heading\" id=\"firstHeading\">List of <i>Game of Thrones</i> episodes</h1>\n",
      "h1\n",
      "['List of ', <i>Game of Thrones</i>, ' episodes']\n",
      "List of Game of Thrones episodes\n",
      "List of Game of Thrones episodes\n",
      "{'id': 'firstHeading', 'class': ['firstHeading', 'mw-first-heading']}\n",
      "firstHeading\n"
     ]
    }
   ],
   "source": [
    "first_h1 = html_soup.find('h1')\n",
    "print(first_h1)\n",
    "print(first_h1.name)\n",
    "print(first_h1.contents)\n",
    "print(first_h1.text)\n",
    "print(first_h1.get_text())\n",
    "print(first_h1.attrs)\n",
    "print(first_h1.attrs['id'])"
   ]
  },
  {
   "cell_type": "markdown",
   "metadata": {},
   "source": [
    "#### Finding the first 5 cite elements and extracting the links"
   ]
  },
  {
   "cell_type": "markdown",
   "metadata": {},
   "source": [
    "* To use the modules when using findall  the for is needed *"
   ]
  },
  {
   "cell_type": "code",
   "execution_count": 312,
   "metadata": {},
   "outputs": [
    {
     "name": "stdout",
     "output_type": "stream",
     "text": [
      "cite\n",
      "cite\n",
      "cite\n",
      "cite\n",
      "cite\n"
     ]
    }
   ],
   "source": [
    "# Find the first five cite elements with a citation class\n",
    "cites = html_soup.find_all('cite', class_='citation', limit=5)\n",
    "for cite in cites:\n",
    "    print(cite.name)"
   ]
  },
  {
   "cell_type": "code",
   "execution_count": 310,
   "metadata": {},
   "outputs": [
    {
     "name": "stdout",
     "output_type": "stream",
     "text": [
      "<cite class=\"citation web cs1\" id=\"CITEREFFowler2011\">Fowler, Matt (April 8, 2011). <a class=\"external text\" href=\"https://web.archive.org/web/20120817073932/http://tv.ign.com/articles/116/1160215p1.html\" rel=\"nofollow\">\"Game of Thrones: \"Winter is Coming\" Review\"</a>. <a href=\"/wiki/IGN\" title=\"IGN\">IGN</a>. Archived from <a class=\"external text\" href=\"http://tv.ign.com/articles/116/1160215p1.html\" rel=\"nofollow\">the original</a> on August 17, 2012<span class=\"reference-accessdate\">. Retrieved <span class=\"nowrap\">September 22,</span> 2016</span>.</cite>\n",
      "<cite class=\"citation news cs1\" id=\"CITEREFFleming2007\">Fleming, Michael (January 16, 2007). <a class=\"external text\" href=\"https://web.archive.org/web/20120516224747/http://www.variety.com/article/VR1117957532?refCatId=14\" rel=\"nofollow\">\"HBO turns <i>Fire</i> into fantasy series\"</a>. <i><a href=\"/wiki/Variety_(magazine)\" title=\"Variety (magazine)\">Variety</a></i>. Archived from <a class=\"external text\" href=\"http://www.variety.com/article/VR1117957532.html?categoryid=14&amp;cs=1\" rel=\"nofollow\">the original</a> on May 16, 2012<span class=\"reference-accessdate\">. Retrieved <span class=\"nowrap\">September 3,</span> 2016</span>.</cite>\n",
      "<cite class=\"citation web cs1\"><a class=\"external text\" href=\"http://www.emmys.com/shows/game-thrones\" rel=\"nofollow\">\"Game of Thrones\"</a>. <a class=\"mw-redirect\" href=\"/wiki/Emmy_Award\" title=\"Emmy Award\">Emmys.com</a><span class=\"reference-accessdate\">. Retrieved <span class=\"nowrap\">September 17,</span> 2016</span>.</cite>\n",
      "<cite class=\"citation news cs1\" id=\"CITEREFRoberts2012\">Roberts, Josh (April 1, 2012). <a class=\"external text\" href=\"https://web.archive.org/web/20120401123724/http://travel.usatoday.com/destinations/story/2012-04-01/Where-the-HBO-hit-Game-of-Thrones-was-filmed/53876876/1\" rel=\"nofollow\">\"Where HBO's hit 'Game of Thrones' was filmed\"</a>. <i><a href=\"/wiki/USA_Today\" title=\"USA Today\">USA Today</a></i>. Archived from <a class=\"external text\" href=\"http://travel.usatoday.com/destinations/story/2012-04-01/Where-the-HBO-hit-Game-of-Thrones-was-filmed/53876876/1\" rel=\"nofollow\">the original</a> on April 1, 2012<span class=\"reference-accessdate\">. Retrieved <span class=\"nowrap\">March 8,</span> 2013</span>.</cite>\n",
      "<cite class=\"citation web cs1\" id=\"CITEREFSchwartz2013\">Schwartz, Terri (January 28, 2013). <a class=\"external text\" href=\"https://web.archive.org/web/20131016062544/http://blog.zap2it.com/frominsidethebox/2013/01/game-of-thrones-casts-a-bear-and-shoots-in-los-angeles-for-major-season-3-scene.html\" rel=\"nofollow\">\"<span class=\"cs1-kern-left\"></span>'Game of Thrones' casts a bear and shoots in Los Angeles for major Season 3 scene\"</a>. <a href=\"/wiki/Zap2it\" title=\"Zap2it\">Zap2it</a>. Archived from <a class=\"external text\" href=\"http://blog.zap2it.com/frominsidethebox/2013/01/game-of-thrones-casts-a-bear-and-shoots-in-los-angeles-for-major-season-3-scene.html\" rel=\"nofollow\">the original</a> on October 16, 2013<span class=\"reference-accessdate\">. Retrieved <span class=\"nowrap\">March 8,</span> 2013</span>.</cite>\n"
     ]
    }
   ],
   "source": [
    "#Extracting the tags of the first 5 references#\n",
    "\n",
    "#Creating the object searching for cite tags with class citation\n",
    "cites = html_soup.find_all('cite', class_='citation', limit=5)\n",
    "#iterating to see the results found\n",
    "#As expected there are 5 <cite tags\n",
    "for cite in cites:\n",
    "    print(cite)"
   ]
  },
  {
   "cell_type": "code",
   "execution_count": 169,
   "metadata": {},
   "outputs": [
    {
     "name": "stdout",
     "output_type": "stream",
     "text": [
      "https://web.archive.org/web/20120817073932/http://tv.ign.com/articles/116/1160215p1.html\n",
      "https://web.archive.org/web/20120516224747/http://www.variety.com/article/VR1117957532?refCatId=14\n",
      "http://www.emmys.com/shows/game-thrones\n",
      "https://web.archive.org/web/20120401123724/http://travel.usatoday.com/destinations/story/2012-04-01/Where-the-HBO-hit-Game-of-Thrones-was-filmed/53876876/1\n",
      "https://web.archive.org/web/20131016062544/http://blog.zap2it.com/frominsidethebox/2013/01/game-of-thrones-casts-a-bear-and-shoots-in-los-angeles-for-major-season-3-scene.html\n"
     ]
    }
   ],
   "source": [
    "#Lets extract only the href attributes of each result found\n",
    "#Href is the hyper reference link - The blue text - which are 9 links\n",
    "#href are inside a tags, a tags are for hyperlinks\n",
    "# Iterating over each result\n",
    "for cite in cites:\n",
    "    #find all a tags and get the href attribute of each result\n",
    "    #a is for hyperlinks\n",
    "    print(cite.find('a').get('href'))"
   ]
  },
  {
   "cell_type": "code",
   "execution_count": 279,
   "metadata": {},
   "outputs": [
    {
     "name": "stdout",
     "output_type": "stream",
     "text": [
      "https://web.archive.org/web/20120817073932/http://tv.ign.com/articles/116/1160215p1.html\n",
      "https://web.archive.org/web/20120516224747/http://www.variety.com/article/VR1117957532?refCatId=14\n",
      "http://www.emmys.com/shows/game-thrones\n",
      "https://web.archive.org/web/20120401123724/http://travel.usatoday.com/destinations/story/2012-04-01/Where-the-HBO-hit-Game-of-Thrones-was-filmed/53876876/1\n",
      "https://web.archive.org/web/20131016062544/http://blog.zap2it.com/frominsidethebox/2013/01/game-of-thrones-casts-a-bear-and-shoots-in-los-angeles-for-major-season-3-scene.html\n"
     ]
    }
   ],
   "source": [
    "#Another way of getting the result of above\n",
    "\n",
    "for cite in cites:\n",
    "    #find all a tags and get the href attribute of each result\n",
    "    #a is for hyperlinks\n",
    "    link = cite.find('a')\n",
    "    print(link.get('href'))"
   ]
  },
  {
   "cell_type": "markdown",
   "metadata": {},
   "source": [
    "#### Fetching from a table"
   ]
  },
  {
   "cell_type": "code",
   "execution_count": null,
   "metadata": {},
   "outputs": [],
   "source": [
    "url = 'https://en.wikipedia.org/w/index.php' + \\\n",
    "'?title=List_of_Game_of_Thrones_episodes&oldid=802553687'\n",
    "html_contents = urlopen(url)\n",
    "html_soup = BeautifulSoup(html_contents, 'html.parser')\n",
    "print(html_soup)"
   ]
  },
  {
   "cell_type": "code",
   "execution_count": null,
   "metadata": {},
   "outputs": [],
   "source": [
    "import pandas as pd\n",
    "episodes = []\n",
    "ep_tables = html_soup.find_all('table', class_='wikiepisodetable')\n",
    "\n",
    "for table in ep_tables:\n",
    "    headers = []\n",
    "    rows = table.find_all('tr')\n",
    "    for header in table.find('tr').find_all('th'):\n",
    "        headers.append(header.text)\n",
    "    for row in table.find_all('tr')[1:]:\n",
    "        values = []\n",
    "        for col in row.find_all(['th','td']):\n",
    "            values.append(col.text)\n",
    "        if values:\n",
    "            episode_dict = {headers[i]: values[i] for i in\n",
    "            range(len(values))}\n",
    "            episodes.append(episode_dict)\n",
    "\n",
    "\n",
    "print(pd.DataFrame(episodes).iloc[0])\n"
   ]
  },
  {
   "cell_type": "markdown",
   "metadata": {},
   "source": [
    "#### Scrapping Colombian Banks Interest rates for free credit investment"
   ]
  },
  {
   "cell_type": "code",
   "execution_count": 6,
   "metadata": {},
   "outputs": [
    {
     "name": "stdout",
     "output_type": "stream",
     "text": [
      "            Interest Type                       Rate         Bank\n",
      "0  Interés efectivo anual  Desde 24.57% hasta 36.92%  Bancolombia\n",
      "1  Interés efectivo anual  Desde 24.71% hasta 36.92%  Bancolombia\n"
     ]
    }
   ],
   "source": [
    "urlbc = 'https://www.bancolombia.com/personas/creditos/consumo/credito-libre-inversion'\n",
    "bancol = urlopen(urlbc)\n",
    "bsoup = BeautifulSoup(bancol,'html.parser')\n",
    "\n",
    "tasasbc = bsoup.find_all('div', class_='snippet-dos', limit=2)\n",
    "\n",
    "df = []\n",
    "for i in tasasbc:\n",
    "    type_of_interest = i.h4.get_text()\n",
    "    rate = i.p.get_text().strip()\n",
    "    df.append({'Interest Type':type_of_interest, 'Rate':rate, 'Bank':'Bancolombia'})\n",
    "\n",
    "print(pd.DataFrame(df))\n",
    "\n",
    "#TO SELECT WHICH RESULT YOU WANT\n",
    "# print(tasasbc[0].h4.text)\n",
    "# print(tasasbc[0].p.text.strip())\n",
    "\n",
    "\n",
    "\n"
   ]
  },
  {
   "cell_type": "markdown",
   "metadata": {},
   "source": [
    "##### USING SELENIUM <br>\n",
    "Scrapping the *monthly interest rate of a 5M free investment credit (48 months)* for the top 10 banks in colombia"
   ]
  },
  {
   "cell_type": "code",
   "execution_count": 1,
   "metadata": {},
   "outputs": [],
   "source": [
    "from selenium import webdriver\n",
    "from webdriver_manager.chrome import ChromeDriverManager\n",
    "from selenium.webdriver.common.by import By\n",
    "import time\n",
    "import pandas as pd"
   ]
  },
  {
   "cell_type": "code",
   "execution_count": null,
   "metadata": {},
   "outputs": [],
   "source": [
    "#BANCOLOMBIA#\n",
    "driver = webdriver.Chrome(ChromeDriverManager().install())\n",
    "page_url = 'https://www.bancolombia.com/personas/creditos/consumo/credito-libre-inversion/simulador-libre-inversion'\n",
    "\n",
    "driver.get(page_url)\n",
    "time.sleep(5)\n",
    "driver.find_element(By.XPATH, '//button[text()=\" CONTINUAR \"]').click()\n",
    "driver.find_element(By.CLASS_NAME, 'mat-radio-container').click()\n",
    "time.sleep(3)\n",
    "input_amount= driver.find_element(By.XPATH, '//*[@id=\"valor-simulacion\"]')\n",
    "input_amount.send_keys('5000000')\n",
    "time.sleep(3)\n",
    "input_date = driver.find_element(By.XPATH,'//*[@id=\"campo-fecha\"]').click()\n",
    "time.sleep(3)\n",
    "input_date2 = driver.find_element(By.XPATH, '//*[@id=\"mat-datepicker-0\"]/div/mat-multi-year-view/table/tbody/tr[2]/td[1]/div').click()\n",
    "time.sleep(3)\n",
    "input_date3 = driver.find_element(By.XPATH, '//*[@id=\"mat-datepicker-0\"]/div/mat-year-view/table/tbody/tr[2]/td[1]/div').click()\n",
    "time.sleep(3)\n",
    "input_date4 = driver.find_element(By.XPATH, '//*[@id=\"mat-datepicker-0\"]/div/mat-month-view/table/tbody/tr[2]/td[2]/div').click()\n",
    "time.sleep(2)\n",
    "driver.find_element(By.XPATH, '//*[@id=\"boton-simular\"]').click()\n",
    "time.sleep(2)\n",
    "driver.find_element(By.XPATH, '//*[@id=\"mat-expansion-panel-header-3\"]/span[2]').click()\n",
    "\n",
    "ratebancol = driver.find_element(By.XPATH, '//*[@id=\"cdk-accordion-child-3\"]/div/div[1]/div[2]')\n",
    "ratebc = ratebancol.text\n",
    "feebancol = driver.find_element(By.XPATH, '//*[@id=\"valor-resultados-compras\"]')\n",
    "feebc = feebancol.text\n"
   ]
  },
  {
   "cell_type": "code",
   "execution_count": 3,
   "metadata": {},
   "outputs": [
    {
     "name": "stdout",
     "output_type": "stream",
     "text": [
      "          Bank  Rate  Monthly_Fee Interest Type\n",
      "0  Bancolombia  2.28      172.435       Monthly\n"
     ]
    }
   ],
   "source": [
    "#Wrangling-Appending#\n",
    "ratebc1 = float(ratebc[:4])\n",
    "feebc1 = feebc[1:]\n",
    "feebc1 = feebc1.replace(\",\", \".\")\n",
    "feebc1 = float (feebc1)\n",
    "dfsel = []\n",
    "dfsel.append({'Bank':'Bancolombia', 'Rate':ratebc1 , 'Monthly_Fee':feebc1, 'Interest Type':'Monthly' })\n",
    "print(pd.DataFrame(dfsel))\n"
   ]
  },
  {
   "cell_type": "code",
   "execution_count": null,
   "metadata": {},
   "outputs": [],
   "source": [
    "#BANCO DE BOGOTÁ\n",
    "driver2 = webdriver.Chrome(ChromeDriverManager().install())\n",
    "url_bbog = 'https://creditodigital.bancodebogota.co/?utm_medium=landingli&utm_source=organic&approvalapi=true'\n",
    "driver2.get(url_bbog)\n",
    "\n",
    "time.sleep(5)\n",
    "input_amount2= driver2.find_element(By.XPATH, '//*[@id=\"txt-input-amount\"]')\n",
    "input_amount2.send_keys('5000000')\n",
    "time.sleep(5)\n",
    "input_date = driver2.find_element(By.XPATH, '/html/body/ion-app/ng-component/ion-nav/page-simulator/ion-content/div[2]/input-amount/div/div[4]/div/dropdown-bdb/div/div/div/div[1]').click()\n",
    "time.sleep(3)\n",
    "input_date2 = driver2.find_element(By.XPATH, \"//div[@class='list']/div[3]\").click()\n",
    "\n",
    "\n",
    "feebbog = driver2.find_element(By.XPATH, '/html/body/ion-app/ng-component/ion-nav/page-simulator/ion-content/div[2]/div[4]/resume-simulator/div/div[1]/div[2]/div[2]/div')\n",
    "feebbg = feebbog.text\n",
    "ratebbog = driver2.find_element(By.XPATH, '/html/body/ion-app/ng-component/ion-nav/page-simulator/ion-content/div[2]/div[4]/resume-simulator/div/div[2]/div/div[2]')\n",
    "ratebog = ratebbog.text"
   ]
  },
  {
   "cell_type": "code",
   "execution_count": 5,
   "metadata": {},
   "outputs": [
    {
     "name": "stdout",
     "output_type": "stream",
     "text": [
      "              Bank  Rate  Monthly_Fee Interest Type\n",
      "0      Bancolombia  2.28      172.435       Monthly\n",
      "1  Banco de Bogotá  2.65      189.342       Monthly\n"
     ]
    }
   ],
   "source": [
    "#Wrangling-Appending#\n",
    "ratebog1 = float(ratebog[:4])\n",
    "feebog1 = feebbg[1:]\n",
    "feebog1 = feebog1.replace(\",\", \".\")\n",
    "feebog1 = float(feebog1)\n",
    "\n",
    "\n",
    "dfsel.append({'Bank':'Banco de Bogotá', 'Rate':ratebog1 , 'Monthly_Fee':feebog1, 'Interest Type':'Monthly' })\n",
    "print(pd.DataFrame(dfsel))\n"
   ]
  },
  {
   "cell_type": "code",
   "execution_count": null,
   "metadata": {},
   "outputs": [],
   "source": []
  }
 ],
 "metadata": {
  "kernelspec": {
   "display_name": "Python 3.10.5 64-bit",
   "language": "python",
   "name": "python3"
  },
  "language_info": {
   "codemirror_mode": {
    "name": "ipython",
    "version": 3
   },
   "file_extension": ".py",
   "mimetype": "text/x-python",
   "name": "python",
   "nbconvert_exporter": "python",
   "pygments_lexer": "ipython3",
   "version": "3.10.5"
  },
  "orig_nbformat": 4,
  "vscode": {
   "interpreter": {
    "hash": "fe9d5ff4a53884772935b30e4b6ecd0e3de4ff8dac19789a0359c1b599960c97"
   }
  }
 },
 "nbformat": 4,
 "nbformat_minor": 2
}
